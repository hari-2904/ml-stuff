{
 "cells": [
  {
   "cell_type": "markdown",
   "metadata": {},
   "source": [
    "***NYC Bike Trips Analysis. Let me see where this goes***"
   ]
  },
  {
   "cell_type": "code",
   "execution_count": 42,
   "metadata": {},
   "outputs": [],
   "source": [
    "#Libraries\n",
    "import pandas as pd\n",
    "import numpy as np \n",
    "import matplotlib.pyplot as plt \n",
    "import seaborn as sns\n",
    "import warnings\n",
    "\n",
    "warnings.filterwarnings(\"ignore\")\n",
    "%matplotlib inline"
   ]
  },
  {
   "cell_type": "code",
   "execution_count": 43,
   "metadata": {},
   "outputs": [
    {
     "data": {
      "text/html": [
       "<div>\n",
       "<style scoped>\n",
       "    .dataframe tbody tr th:only-of-type {\n",
       "        vertical-align: middle;\n",
       "    }\n",
       "\n",
       "    .dataframe tbody tr th {\n",
       "        vertical-align: top;\n",
       "    }\n",
       "\n",
       "    .dataframe thead th {\n",
       "        text-align: right;\n",
       "    }\n",
       "</style>\n",
       "<table border=\"1\" class=\"dataframe\">\n",
       "  <thead>\n",
       "    <tr style=\"text-align: right;\">\n",
       "      <th></th>\n",
       "      <th>start_time</th>\n",
       "      <th>stop_time</th>\n",
       "      <th>start_station_id</th>\n",
       "      <th>end_station_id</th>\n",
       "      <th>user_type</th>\n",
       "      <th>bike_id</th>\n",
       "      <th>gender</th>\n",
       "      <th>age</th>\n",
       "      <th>trip_duration</th>\n",
       "    </tr>\n",
       "  </thead>\n",
       "  <tbody>\n",
       "    <tr>\n",
       "      <th>0</th>\n",
       "      <td>2018-05-31 23:59:59</td>\n",
       "      <td>2018-06-01 00:12:57</td>\n",
       "      <td>312</td>\n",
       "      <td>460</td>\n",
       "      <td>Subscriber</td>\n",
       "      <td>25805</td>\n",
       "      <td>male</td>\n",
       "      <td>32</td>\n",
       "      <td>12.97</td>\n",
       "    </tr>\n",
       "    <tr>\n",
       "      <th>1</th>\n",
       "      <td>2018-05-31 23:59:59</td>\n",
       "      <td>2018-06-01 00:12:26</td>\n",
       "      <td>401</td>\n",
       "      <td>360</td>\n",
       "      <td>Subscriber</td>\n",
       "      <td>17258</td>\n",
       "      <td>male</td>\n",
       "      <td>24</td>\n",
       "      <td>12.45</td>\n",
       "    </tr>\n",
       "    <tr>\n",
       "      <th>2</th>\n",
       "      <td>2018-05-31 23:59:51</td>\n",
       "      <td>2018-06-01 00:08:09</td>\n",
       "      <td>483</td>\n",
       "      <td>368</td>\n",
       "      <td>Subscriber</td>\n",
       "      <td>19692</td>\n",
       "      <td>male</td>\n",
       "      <td>39</td>\n",
       "      <td>8.28</td>\n",
       "    </tr>\n",
       "    <tr>\n",
       "      <th>3</th>\n",
       "      <td>2018-05-31 23:59:48</td>\n",
       "      <td>2018-06-01 00:07:33</td>\n",
       "      <td>3107</td>\n",
       "      <td>3076</td>\n",
       "      <td>Subscriber</td>\n",
       "      <td>28285</td>\n",
       "      <td>male</td>\n",
       "      <td>28</td>\n",
       "      <td>7.75</td>\n",
       "    </tr>\n",
       "    <tr>\n",
       "      <th>4</th>\n",
       "      <td>2018-05-31 23:59:45</td>\n",
       "      <td>2018-06-01 00:07:48</td>\n",
       "      <td>3341</td>\n",
       "      <td>3400</td>\n",
       "      <td>Subscriber</td>\n",
       "      <td>21000</td>\n",
       "      <td>female</td>\n",
       "      <td>51</td>\n",
       "      <td>8.05</td>\n",
       "    </tr>\n",
       "  </tbody>\n",
       "</table>\n",
       "</div>"
      ],
      "text/plain": [
       "            start_time            stop_time  start_station_id  end_station_id  \\\n",
       "0  2018-05-31 23:59:59  2018-06-01 00:12:57               312             460   \n",
       "1  2018-05-31 23:59:59  2018-06-01 00:12:26               401             360   \n",
       "2  2018-05-31 23:59:51  2018-06-01 00:08:09               483             368   \n",
       "3  2018-05-31 23:59:48  2018-06-01 00:07:33              3107            3076   \n",
       "4  2018-05-31 23:59:45  2018-06-01 00:07:48              3341            3400   \n",
       "\n",
       "    user_type  bike_id  gender  age  trip_duration  \n",
       "0  Subscriber    25805    male   32          12.97  \n",
       "1  Subscriber    17258    male   24          12.45  \n",
       "2  Subscriber    19692    male   39           8.28  \n",
       "3  Subscriber    28285    male   28           7.75  \n",
       "4  Subscriber    21000  female   51           8.05  "
      ]
     },
     "execution_count": 43,
     "metadata": {},
     "output_type": "execute_result"
    }
   ],
   "source": [
    "df = pd.read_csv('../input/kaggle/nyc_biketrips.csv', usecols=['start_time', 'stop_time', 'start_station_id',\n",
    "       'end_station_id','user_type', 'bike_id', 'gender','age', 'trip_duration'], parse_dates=True)\n",
    "df.head()"
   ]
  },
  {
   "cell_type": "code",
   "execution_count": 45,
   "metadata": {},
   "outputs": [
    {
     "name": "stdout",
     "output_type": "stream",
     "text": [
      "<class 'pandas.core.frame.DataFrame'>\n",
      "RangeIndex: 1595334 entries, 0 to 1595333\n",
      "Data columns (total 9 columns):\n",
      " #   Column            Non-Null Count    Dtype         \n",
      "---  ------            --------------    -----         \n",
      " 0   start_time        1595334 non-null  datetime64[ns]\n",
      " 1   stop_time         1595334 non-null  datetime64[ns]\n",
      " 2   start_station_id  1595334 non-null  int64         \n",
      " 3   end_station_id    1595334 non-null  int64         \n",
      " 4   user_type         1595334 non-null  object        \n",
      " 5   bike_id           1595334 non-null  int64         \n",
      " 6   gender            1595334 non-null  object        \n",
      " 7   age               1595334 non-null  int64         \n",
      " 8   trip_duration     1595334 non-null  float64       \n",
      "dtypes: datetime64[ns](2), float64(1), int64(4), object(2)\n",
      "memory usage: 109.5+ MB\n"
     ]
    }
   ],
   "source": [
    "df['start_time'] = pd.to_datetime(df['start_time'])\n",
    "df['stop_time'] = pd.to_datetime(df['stop_time'])\n",
    "df.info()"
   ]
  },
  {
   "cell_type": "code",
   "execution_count": 46,
   "metadata": {},
   "outputs": [
    {
     "data": {
      "text/html": [
       "<div>\n",
       "<style scoped>\n",
       "    .dataframe tbody tr th:only-of-type {\n",
       "        vertical-align: middle;\n",
       "    }\n",
       "\n",
       "    .dataframe tbody tr th {\n",
       "        vertical-align: top;\n",
       "    }\n",
       "\n",
       "    .dataframe thead th {\n",
       "        text-align: right;\n",
       "    }\n",
       "</style>\n",
       "<table border=\"1\" class=\"dataframe\">\n",
       "  <thead>\n",
       "    <tr style=\"text-align: right;\">\n",
       "      <th></th>\n",
       "      <th>start_time</th>\n",
       "      <th>stop_time</th>\n",
       "      <th>start_station_id</th>\n",
       "      <th>end_station_id</th>\n",
       "      <th>bike_id</th>\n",
       "      <th>age</th>\n",
       "      <th>trip_duration</th>\n",
       "    </tr>\n",
       "  </thead>\n",
       "  <tbody>\n",
       "    <tr>\n",
       "      <th>count</th>\n",
       "      <td>1595334</td>\n",
       "      <td>1595334</td>\n",
       "      <td>1.595334e+06</td>\n",
       "      <td>1.595334e+06</td>\n",
       "      <td>1.595334e+06</td>\n",
       "      <td>1.595334e+06</td>\n",
       "      <td>1.595334e+06</td>\n",
       "    </tr>\n",
       "    <tr>\n",
       "      <th>mean</th>\n",
       "      <td>2018-05-16 00:55:24.459198720</td>\n",
       "      <td>2018-05-16 01:11:50.985054464</td>\n",
       "      <td>1.548185e+03</td>\n",
       "      <td>1.537103e+03</td>\n",
       "      <td>2.620161e+04</td>\n",
       "      <td>3.785808e+01</td>\n",
       "      <td>1.643375e+01</td>\n",
       "    </tr>\n",
       "    <tr>\n",
       "      <th>min</th>\n",
       "      <td>2018-05-01 00:00:11</td>\n",
       "      <td>2018-05-01 00:04:35</td>\n",
       "      <td>7.200000e+01</td>\n",
       "      <td>7.200000e+01</td>\n",
       "      <td>1.452900e+04</td>\n",
       "      <td>1.600000e+01</td>\n",
       "      <td>1.020000e+00</td>\n",
       "    </tr>\n",
       "    <tr>\n",
       "      <th>25%</th>\n",
       "      <td>2018-05-07 20:04:24.500000</td>\n",
       "      <td>2018-05-07 20:18:59</td>\n",
       "      <td>3.800000e+02</td>\n",
       "      <td>3.790000e+02</td>\n",
       "      <td>2.062600e+04</td>\n",
       "      <td>2.900000e+01</td>\n",
       "      <td>6.120000e+00</td>\n",
       "    </tr>\n",
       "    <tr>\n",
       "      <th>50%</th>\n",
       "      <td>2018-05-15 11:46:20.500000</td>\n",
       "      <td>2018-05-15 12:01:59.500000</td>\n",
       "      <td>5.020000e+02</td>\n",
       "      <td>5.010000e+02</td>\n",
       "      <td>2.786500e+04</td>\n",
       "      <td>3.500000e+01</td>\n",
       "      <td>1.027000e+01</td>\n",
       "    </tr>\n",
       "    <tr>\n",
       "      <th>75%</th>\n",
       "      <td>2018-05-24 07:44:10.500000</td>\n",
       "      <td>2018-05-24 07:57:37.500000</td>\n",
       "      <td>3.232000e+03</td>\n",
       "      <td>3.232000e+03</td>\n",
       "      <td>3.102600e+04</td>\n",
       "      <td>4.600000e+01</td>\n",
       "      <td>1.767000e+01</td>\n",
       "    </tr>\n",
       "    <tr>\n",
       "      <th>max</th>\n",
       "      <td>2018-05-31 23:59:59</td>\n",
       "      <td>2018-08-12 10:14:03</td>\n",
       "      <td>3.686000e+03</td>\n",
       "      <td>3.686000e+03</td>\n",
       "      <td>3.369000e+04</td>\n",
       "      <td>6.500000e+01</td>\n",
       "      <td>1.117817e+05</td>\n",
       "    </tr>\n",
       "    <tr>\n",
       "      <th>std</th>\n",
       "      <td>NaN</td>\n",
       "      <td>NaN</td>\n",
       "      <td>1.427931e+03</td>\n",
       "      <td>1.426690e+03</td>\n",
       "      <td>5.784637e+03</td>\n",
       "      <td>1.102715e+01</td>\n",
       "      <td>2.848633e+02</td>\n",
       "    </tr>\n",
       "  </tbody>\n",
       "</table>\n",
       "</div>"
      ],
      "text/plain": [
       "                          start_time                      stop_time  \\\n",
       "count                        1595334                        1595334   \n",
       "mean   2018-05-16 00:55:24.459198720  2018-05-16 01:11:50.985054464   \n",
       "min              2018-05-01 00:00:11            2018-05-01 00:04:35   \n",
       "25%       2018-05-07 20:04:24.500000            2018-05-07 20:18:59   \n",
       "50%       2018-05-15 11:46:20.500000     2018-05-15 12:01:59.500000   \n",
       "75%       2018-05-24 07:44:10.500000     2018-05-24 07:57:37.500000   \n",
       "max              2018-05-31 23:59:59            2018-08-12 10:14:03   \n",
       "std                              NaN                            NaN   \n",
       "\n",
       "       start_station_id  end_station_id       bike_id           age  \\\n",
       "count      1.595334e+06    1.595334e+06  1.595334e+06  1.595334e+06   \n",
       "mean       1.548185e+03    1.537103e+03  2.620161e+04  3.785808e+01   \n",
       "min        7.200000e+01    7.200000e+01  1.452900e+04  1.600000e+01   \n",
       "25%        3.800000e+02    3.790000e+02  2.062600e+04  2.900000e+01   \n",
       "50%        5.020000e+02    5.010000e+02  2.786500e+04  3.500000e+01   \n",
       "75%        3.232000e+03    3.232000e+03  3.102600e+04  4.600000e+01   \n",
       "max        3.686000e+03    3.686000e+03  3.369000e+04  6.500000e+01   \n",
       "std        1.427931e+03    1.426690e+03  5.784637e+03  1.102715e+01   \n",
       "\n",
       "       trip_duration  \n",
       "count   1.595334e+06  \n",
       "mean    1.643375e+01  \n",
       "min     1.020000e+00  \n",
       "25%     6.120000e+00  \n",
       "50%     1.027000e+01  \n",
       "75%     1.767000e+01  \n",
       "max     1.117817e+05  \n",
       "std     2.848633e+02  "
      ]
     },
     "execution_count": 46,
     "metadata": {},
     "output_type": "execute_result"
    }
   ],
   "source": [
    "df.describe()"
   ]
  },
  {
   "cell_type": "code",
   "execution_count": 47,
   "metadata": {},
   "outputs": [
    {
     "data": {
      "text/html": [
       "<div>\n",
       "<style scoped>\n",
       "    .dataframe tbody tr th:only-of-type {\n",
       "        vertical-align: middle;\n",
       "    }\n",
       "\n",
       "    .dataframe tbody tr th {\n",
       "        vertical-align: top;\n",
       "    }\n",
       "\n",
       "    .dataframe thead th {\n",
       "        text-align: right;\n",
       "    }\n",
       "</style>\n",
       "<table border=\"1\" class=\"dataframe\">\n",
       "  <thead>\n",
       "    <tr style=\"text-align: right;\">\n",
       "      <th></th>\n",
       "      <th>start_time</th>\n",
       "      <th>stop_time</th>\n",
       "      <th>start_station_id</th>\n",
       "      <th>end_station_id</th>\n",
       "      <th>user_type</th>\n",
       "      <th>bike_id</th>\n",
       "      <th>gender</th>\n",
       "      <th>age</th>\n",
       "      <th>trip_duration</th>\n",
       "    </tr>\n",
       "  </thead>\n",
       "  <tbody>\n",
       "    <tr>\n",
       "      <th>0</th>\n",
       "      <td>2018-05-31 23:59:59</td>\n",
       "      <td>2018-06-01 00:12:57</td>\n",
       "      <td>312</td>\n",
       "      <td>460</td>\n",
       "      <td>Subscriber</td>\n",
       "      <td>25805</td>\n",
       "      <td>male</td>\n",
       "      <td>32</td>\n",
       "      <td>778.0</td>\n",
       "    </tr>\n",
       "    <tr>\n",
       "      <th>1</th>\n",
       "      <td>2018-05-31 23:59:59</td>\n",
       "      <td>2018-06-01 00:12:26</td>\n",
       "      <td>401</td>\n",
       "      <td>360</td>\n",
       "      <td>Subscriber</td>\n",
       "      <td>17258</td>\n",
       "      <td>male</td>\n",
       "      <td>24</td>\n",
       "      <td>747.0</td>\n",
       "    </tr>\n",
       "    <tr>\n",
       "      <th>2</th>\n",
       "      <td>2018-05-31 23:59:51</td>\n",
       "      <td>2018-06-01 00:08:09</td>\n",
       "      <td>483</td>\n",
       "      <td>368</td>\n",
       "      <td>Subscriber</td>\n",
       "      <td>19692</td>\n",
       "      <td>male</td>\n",
       "      <td>39</td>\n",
       "      <td>497.0</td>\n",
       "    </tr>\n",
       "    <tr>\n",
       "      <th>3</th>\n",
       "      <td>2018-05-31 23:59:48</td>\n",
       "      <td>2018-06-01 00:07:33</td>\n",
       "      <td>3107</td>\n",
       "      <td>3076</td>\n",
       "      <td>Subscriber</td>\n",
       "      <td>28285</td>\n",
       "      <td>male</td>\n",
       "      <td>28</td>\n",
       "      <td>465.0</td>\n",
       "    </tr>\n",
       "    <tr>\n",
       "      <th>4</th>\n",
       "      <td>2018-05-31 23:59:45</td>\n",
       "      <td>2018-06-01 00:07:48</td>\n",
       "      <td>3341</td>\n",
       "      <td>3400</td>\n",
       "      <td>Subscriber</td>\n",
       "      <td>21000</td>\n",
       "      <td>female</td>\n",
       "      <td>51</td>\n",
       "      <td>483.0</td>\n",
       "    </tr>\n",
       "    <tr>\n",
       "      <th>...</th>\n",
       "      <td>...</td>\n",
       "      <td>...</td>\n",
       "      <td>...</td>\n",
       "      <td>...</td>\n",
       "      <td>...</td>\n",
       "      <td>...</td>\n",
       "      <td>...</td>\n",
       "      <td>...</td>\n",
       "      <td>...</td>\n",
       "    </tr>\n",
       "    <tr>\n",
       "      <th>1595329</th>\n",
       "      <td>2018-05-01 00:01:00</td>\n",
       "      <td>2018-05-01 00:08:02</td>\n",
       "      <td>3493</td>\n",
       "      <td>3351</td>\n",
       "      <td>Subscriber</td>\n",
       "      <td>30645</td>\n",
       "      <td>male</td>\n",
       "      <td>32</td>\n",
       "      <td>421.0</td>\n",
       "    </tr>\n",
       "    <tr>\n",
       "      <th>1595330</th>\n",
       "      <td>2018-05-01 00:00:43</td>\n",
       "      <td>2018-05-01 00:05:40</td>\n",
       "      <td>532</td>\n",
       "      <td>3096</td>\n",
       "      <td>Subscriber</td>\n",
       "      <td>16980</td>\n",
       "      <td>male</td>\n",
       "      <td>33</td>\n",
       "      <td>297.0</td>\n",
       "    </tr>\n",
       "    <tr>\n",
       "      <th>1595331</th>\n",
       "      <td>2018-05-01 00:00:40</td>\n",
       "      <td>2018-05-01 00:08:03</td>\n",
       "      <td>3263</td>\n",
       "      <td>546</td>\n",
       "      <td>Subscriber</td>\n",
       "      <td>27255</td>\n",
       "      <td>male</td>\n",
       "      <td>49</td>\n",
       "      <td>443.0</td>\n",
       "    </tr>\n",
       "    <tr>\n",
       "      <th>1595332</th>\n",
       "      <td>2018-05-01 00:00:35</td>\n",
       "      <td>2018-05-01 00:12:16</td>\n",
       "      <td>507</td>\n",
       "      <td>3458</td>\n",
       "      <td>Subscriber</td>\n",
       "      <td>29357</td>\n",
       "      <td>male</td>\n",
       "      <td>22</td>\n",
       "      <td>700.0</td>\n",
       "    </tr>\n",
       "    <tr>\n",
       "      <th>1595333</th>\n",
       "      <td>2018-05-01 00:00:11</td>\n",
       "      <td>2018-05-01 00:05:14</td>\n",
       "      <td>491</td>\n",
       "      <td>2003</td>\n",
       "      <td>Subscriber</td>\n",
       "      <td>32191</td>\n",
       "      <td>male</td>\n",
       "      <td>34</td>\n",
       "      <td>303.0</td>\n",
       "    </tr>\n",
       "  </tbody>\n",
       "</table>\n",
       "<p>1595334 rows × 9 columns</p>\n",
       "</div>"
      ],
      "text/plain": [
       "                 start_time           stop_time  start_station_id  \\\n",
       "0       2018-05-31 23:59:59 2018-06-01 00:12:57               312   \n",
       "1       2018-05-31 23:59:59 2018-06-01 00:12:26               401   \n",
       "2       2018-05-31 23:59:51 2018-06-01 00:08:09               483   \n",
       "3       2018-05-31 23:59:48 2018-06-01 00:07:33              3107   \n",
       "4       2018-05-31 23:59:45 2018-06-01 00:07:48              3341   \n",
       "...                     ...                 ...               ...   \n",
       "1595329 2018-05-01 00:01:00 2018-05-01 00:08:02              3493   \n",
       "1595330 2018-05-01 00:00:43 2018-05-01 00:05:40               532   \n",
       "1595331 2018-05-01 00:00:40 2018-05-01 00:08:03              3263   \n",
       "1595332 2018-05-01 00:00:35 2018-05-01 00:12:16               507   \n",
       "1595333 2018-05-01 00:00:11 2018-05-01 00:05:14               491   \n",
       "\n",
       "         end_station_id   user_type  bike_id  gender  age  trip_duration  \n",
       "0                   460  Subscriber    25805    male   32          778.0  \n",
       "1                   360  Subscriber    17258    male   24          747.0  \n",
       "2                   368  Subscriber    19692    male   39          497.0  \n",
       "3                  3076  Subscriber    28285    male   28          465.0  \n",
       "4                  3400  Subscriber    21000  female   51          483.0  \n",
       "...                 ...         ...      ...     ...  ...            ...  \n",
       "1595329            3351  Subscriber    30645    male   32          421.0  \n",
       "1595330            3096  Subscriber    16980    male   33          297.0  \n",
       "1595331             546  Subscriber    27255    male   49          443.0  \n",
       "1595332            3458  Subscriber    29357    male   22          700.0  \n",
       "1595333            2003  Subscriber    32191    male   34          303.0  \n",
       "\n",
       "[1595334 rows x 9 columns]"
      ]
     },
     "execution_count": 47,
     "metadata": {},
     "output_type": "execute_result"
    }
   ],
   "source": [
    "df['trip_duration'] = round(df['trip_duration'] * 60)\n",
    "df"
   ]
  },
  {
   "cell_type": "code",
   "execution_count": 48,
   "metadata": {},
   "outputs": [
    {
     "name": "stdout",
     "output_type": "stream",
     "text": [
      "<class 'pandas.core.frame.DataFrame'>\n",
      "RangeIndex: 1595334 entries, 0 to 1595333\n",
      "Data columns (total 9 columns):\n",
      " #   Column            Non-Null Count    Dtype         \n",
      "---  ------            --------------    -----         \n",
      " 0   start_time        1595334 non-null  datetime64[ns]\n",
      " 1   stop_time         1595334 non-null  datetime64[ns]\n",
      " 2   start_station_id  1595334 non-null  int64         \n",
      " 3   end_station_id    1595334 non-null  int64         \n",
      " 4   user_type         1595334 non-null  object        \n",
      " 5   bike_id           1595334 non-null  int64         \n",
      " 6   gender            1595334 non-null  object        \n",
      " 7   age               1595334 non-null  int64         \n",
      " 8   trip_duration     1595334 non-null  float64       \n",
      "dtypes: datetime64[ns](2), float64(1), int64(4), object(2)\n",
      "memory usage: 109.5+ MB\n"
     ]
    }
   ],
   "source": [
    "df.info()"
   ]
  },
  {
   "cell_type": "code",
   "execution_count": 50,
   "metadata": {},
   "outputs": [],
   "source": [
    "df['duration'] = df['stop_time'] - df['start_time']"
   ]
  },
  {
   "cell_type": "code",
   "execution_count": 51,
   "metadata": {},
   "outputs": [
    {
     "data": {
      "text/plain": [
       "count                      1595334\n",
       "mean     0 days 00:16:26.525856027\n",
       "std      0 days 04:44:51.799834528\n",
       "min                0 days 00:01:01\n",
       "25%                0 days 00:06:07\n",
       "50%                0 days 00:10:17\n",
       "75%                0 days 00:17:40\n",
       "max               77 days 15:01:41\n",
       "Name: duration, dtype: object"
      ]
     },
     "execution_count": 51,
     "metadata": {},
     "output_type": "execute_result"
    }
   ],
   "source": [
    "df['duration'].describe()"
   ]
  },
  {
   "cell_type": "code",
   "execution_count": 52,
   "metadata": {},
   "outputs": [
    {
     "data": {
      "text/plain": [
       "246454"
      ]
     },
     "execution_count": 52,
     "metadata": {},
     "output_type": "execute_result"
    }
   ],
   "source": [
    "df['duration'].idxmax()"
   ]
  },
  {
   "cell_type": "code",
   "execution_count": 53,
   "metadata": {},
   "outputs": [
    {
     "data": {
      "text/plain": [
       "start_time          2018-05-26 19:12:22\n",
       "stop_time           2018-08-12 10:14:03\n",
       "start_station_id                   3584\n",
       "end_station_id                     3599\n",
       "user_type                      Customer\n",
       "bike_id                           26820\n",
       "gender                             male\n",
       "age                                  30\n",
       "trip_duration                 6706901.0\n",
       "duration               77 days 15:01:41\n",
       "Name: 246454, dtype: object"
      ]
     },
     "execution_count": 53,
     "metadata": {},
     "output_type": "execute_result"
    }
   ],
   "source": [
    "df.iloc[246454]"
   ]
  },
  {
   "cell_type": "code",
   "execution_count": 9,
   "metadata": {},
   "outputs": [],
   "source": [
    "df = df[df['duration'] <= '1 days']"
   ]
  },
  {
   "cell_type": "code",
   "execution_count": 41,
   "metadata": {},
   "outputs": [
    {
     "data": {
      "text/plain": [
       "0          False\n",
       "1          False\n",
       "2          False\n",
       "3          False\n",
       "4          False\n",
       "           ...  \n",
       "1594935    False\n",
       "1594936    False\n",
       "1594937    False\n",
       "1594938    False\n",
       "1594939    False\n",
       "Length: 1594940, dtype: bool"
      ]
     },
     "execution_count": 41,
     "metadata": {},
     "output_type": "execute_result"
    }
   ],
   "source": [
    "df = df.reset_index(drop=True)\n",
    "df.duplicated()"
   ]
  },
  {
   "cell_type": "code",
   "execution_count": 22,
   "metadata": {},
   "outputs": [
    {
     "data": {
      "text/plain": [
       "<Axes: xlabel='age', ylabel='Count'>"
      ]
     },
     "execution_count": 22,
     "metadata": {},
     "output_type": "execute_result"
    },
    {
     "data": {
      "image/png": "[encoded data removed]",
      "text/plain": [
       "<Figure size 1600x1000 with 1 Axes>"
      ]
     },
     "metadata": {},
     "output_type": "display_data"
    }
   ],
   "source": [
    "plt.figure(figsize=(16,10))\n",
    "sns.histplot(data=df, x='age', hue='gender', bins=20, kde=True)"
   ]
  },
  {
   "cell_type": "code",
   "execution_count": 25,
   "metadata": {},
   "outputs": [
    {
     "data": {
      "text/plain": [
       "<Axes: xlabel='user_type', ylabel='count'>"
      ]
     },
     "execution_count": 25,
     "metadata": {},
     "output_type": "execute_result"
    },
    {
     "data": {
      "image/png": "[encoded data removed]",
      "text/plain": [
       "<Figure size 1600x1000 with 1 Axes>"
      ]
     },
     "metadata": {},
     "output_type": "display_data"
    }
   ],
   "source": [
    "plt.figure(figsize=(16,10))\n",
    "sns.countplot(data=df, x = 'user_type')"
   ]
  },
  {
   "cell_type": "code",
   "execution_count": 40,
   "metadata": {},
   "outputs": [
    {
     "data": {
      "text/html": [
       "<div>\n",
       "<style scoped>\n",
       "    .dataframe tbody tr th:only-of-type {\n",
       "        vertical-align: middle;\n",
       "    }\n",
       "\n",
       "    .dataframe tbody tr th {\n",
       "        vertical-align: top;\n",
       "    }\n",
       "\n",
       "    .dataframe thead th {\n",
       "        text-align: right;\n",
       "    }\n",
       "</style>\n",
       "<table border=\"1\" class=\"dataframe\">\n",
       "  <thead>\n",
       "    <tr style=\"text-align: right;\">\n",
       "      <th></th>\n",
       "      <th>start_time</th>\n",
       "      <th>stop_time</th>\n",
       "      <th>start_station_id</th>\n",
       "      <th>end_station_id</th>\n",
       "      <th>bike_id</th>\n",
       "      <th>age</th>\n",
       "      <th>trip_duration</th>\n",
       "      <th>duration</th>\n",
       "    </tr>\n",
       "  </thead>\n",
       "  <tbody>\n",
       "    <tr>\n",
       "      <th>count</th>\n",
       "      <td>1594940</td>\n",
       "      <td>1594940</td>\n",
       "      <td>1.594940e+06</td>\n",
       "      <td>1.594940e+06</td>\n",
       "      <td>1.594940e+06</td>\n",
       "      <td>1.594940e+06</td>\n",
       "      <td>1.594940e+06</td>\n",
       "      <td>1594940</td>\n",
       "    </tr>\n",
       "    <tr>\n",
       "      <th>mean</th>\n",
       "      <td>2018-05-16 00:54:56.562965504</td>\n",
       "      <td>2018-05-16 01:08:50.138619392</td>\n",
       "      <td>1.547996e+03</td>\n",
       "      <td>1.536855e+03</td>\n",
       "      <td>2.620193e+04</td>\n",
       "      <td>3.785886e+01</td>\n",
       "      <td>8.330746e+02</td>\n",
       "      <td>0 days 00:13:53.575654883</td>\n",
       "    </tr>\n",
       "    <tr>\n",
       "      <th>min</th>\n",
       "      <td>2018-05-01 00:00:11</td>\n",
       "      <td>2018-05-01 00:04:35</td>\n",
       "      <td>7.200000e+01</td>\n",
       "      <td>7.200000e+01</td>\n",
       "      <td>1.452900e+04</td>\n",
       "      <td>1.600000e+01</td>\n",
       "      <td>6.100000e+01</td>\n",
       "      <td>0 days 00:01:01</td>\n",
       "    </tr>\n",
       "    <tr>\n",
       "      <th>25%</th>\n",
       "      <td>2018-05-07 20:04:14.500000</td>\n",
       "      <td>2018-05-07 20:18:10.750000128</td>\n",
       "      <td>3.800000e+02</td>\n",
       "      <td>3.790000e+02</td>\n",
       "      <td>2.063200e+04</td>\n",
       "      <td>2.900000e+01</td>\n",
       "      <td>3.670000e+02</td>\n",
       "      <td>0 days 00:06:07</td>\n",
       "    </tr>\n",
       "    <tr>\n",
       "      <th>50%</th>\n",
       "      <td>2018-05-15 11:45:36.500000</td>\n",
       "      <td>2018-05-15 11:59:44</td>\n",
       "      <td>5.020000e+02</td>\n",
       "      <td>5.010000e+02</td>\n",
       "      <td>2.786500e+04</td>\n",
       "      <td>3.500000e+01</td>\n",
       "      <td>6.160000e+02</td>\n",
       "      <td>0 days 00:10:16</td>\n",
       "    </tr>\n",
       "    <tr>\n",
       "      <th>75%</th>\n",
       "      <td>2018-05-24 07:43:42.249999872</td>\n",
       "      <td>2018-05-24 07:56:30</td>\n",
       "      <td>3.232000e+03</td>\n",
       "      <td>3.232000e+03</td>\n",
       "      <td>3.102600e+04</td>\n",
       "      <td>4.600000e+01</td>\n",
       "      <td>1.059000e+03</td>\n",
       "      <td>0 days 00:17:40</td>\n",
       "    </tr>\n",
       "    <tr>\n",
       "      <th>max</th>\n",
       "      <td>2018-05-31 23:59:59</td>\n",
       "      <td>2018-06-01 14:37:59</td>\n",
       "      <td>3.686000e+03</td>\n",
       "      <td>3.686000e+03</td>\n",
       "      <td>3.369000e+04</td>\n",
       "      <td>6.500000e+01</td>\n",
       "      <td>8.627300e+04</td>\n",
       "      <td>0 days 23:57:53</td>\n",
       "    </tr>\n",
       "    <tr>\n",
       "      <th>std</th>\n",
       "      <td>NaN</td>\n",
       "      <td>NaN</td>\n",
       "      <td>1.427890e+03</td>\n",
       "      <td>1.426637e+03</td>\n",
       "      <td>5.784513e+03</td>\n",
       "      <td>1.102723e+01</td>\n",
       "      <td>1.194721e+03</td>\n",
       "      <td>0 days 00:19:54.721091545</td>\n",
       "    </tr>\n",
       "  </tbody>\n",
       "</table>\n",
       "</div>"
      ],
      "text/plain": [
       "                          start_time                      stop_time  \\\n",
       "count                        1594940                        1594940   \n",
       "mean   2018-05-16 00:54:56.562965504  2018-05-16 01:08:50.138619392   \n",
       "min              2018-05-01 00:00:11            2018-05-01 00:04:35   \n",
       "25%       2018-05-07 20:04:14.500000  2018-05-07 20:18:10.750000128   \n",
       "50%       2018-05-15 11:45:36.500000            2018-05-15 11:59:44   \n",
       "75%    2018-05-24 07:43:42.249999872            2018-05-24 07:56:30   \n",
       "max              2018-05-31 23:59:59            2018-06-01 14:37:59   \n",
       "std                              NaN                            NaN   \n",
       "\n",
       "       start_station_id  end_station_id       bike_id           age  \\\n",
       "count      1.594940e+06    1.594940e+06  1.594940e+06  1.594940e+06   \n",
       "mean       1.547996e+03    1.536855e+03  2.620193e+04  3.785886e+01   \n",
       "min        7.200000e+01    7.200000e+01  1.452900e+04  1.600000e+01   \n",
       "25%        3.800000e+02    3.790000e+02  2.063200e+04  2.900000e+01   \n",
       "50%        5.020000e+02    5.010000e+02  2.786500e+04  3.500000e+01   \n",
       "75%        3.232000e+03    3.232000e+03  3.102600e+04  4.600000e+01   \n",
       "max        3.686000e+03    3.686000e+03  3.369000e+04  6.500000e+01   \n",
       "std        1.427890e+03    1.426637e+03  5.784513e+03  1.102723e+01   \n",
       "\n",
       "       trip_duration                   duration  \n",
       "count   1.594940e+06                    1594940  \n",
       "mean    8.330746e+02  0 days 00:13:53.575654883  \n",
       "min     6.100000e+01            0 days 00:01:01  \n",
       "25%     3.670000e+02            0 days 00:06:07  \n",
       "50%     6.160000e+02            0 days 00:10:16  \n",
       "75%     1.059000e+03            0 days 00:17:40  \n",
       "max     8.627300e+04            0 days 23:57:53  \n",
       "std     1.194721e+03  0 days 00:19:54.721091545  "
      ]
     },
     "execution_count": 40,
     "metadata": {},
     "output_type": "execute_result"
    }
   ],
   "source": [
    "df.describe()"
   ]
  },
  {
   "cell_type": "code",
   "execution_count": 39,
   "metadata": {},
   "outputs": [
    {
     "data": {
      "text/plain": [
       "array([5])"
      ]
     },
     "execution_count": 39,
     "metadata": {},
     "output_type": "execute_result"
    }
   ],
   "source": [
    "df['start_time'].dt.month.unique()"
   ]
  }
 ],
 "metadata": {
  "kernelspec": {
   "display_name": ".venv",
   "language": "python",
   "name": "python3"
  },
  "language_info": {
   "codemirror_mode": {
    "name": "ipython",
    "version": 3
   },
   "file_extension": ".py",
   "mimetype": "text/x-python",
   "name": "python",
   "nbconvert_exporter": "python",
   "pygments_lexer": "ipython3",
   "version": "3.12.1"
  }
 },
 "nbformat": 4,
 "nbformat_minor": 2
}
