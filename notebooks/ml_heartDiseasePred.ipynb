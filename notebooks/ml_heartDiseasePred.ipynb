{
 "cells": [
  {
   "cell_type": "markdown",
   "metadata": {},
   "source": [
    "***Final Project ML \n",
    "Classification: Heart \n",
    "Disease Prediction***"
   ]
  },
  {
   "cell_type": "markdown",
   "metadata": {},
   "source": [
    "Contents\n",
    "• Dataset Description \n",
    "\n",
    "• Main objectives of the analysis.\n",
    "\n",
    "• Applying various classification models.\n",
    "\n",
    "• Machine learning analysis and findings.\n",
    "\n",
    "• Models flaws and advanced steps.\n"
   ]
  },
  {
   "cell_type": "markdown",
   "metadata": {},
   "source": [
    "***Data Description***"
   ]
  },
  {
   "cell_type": "markdown",
   "metadata": {},
   "source": [
    "Predicting and diagnosing heart disease is a significant challenge in the medical field, as it relies on various factors such as physical examination and symptoms present in patients. Heart disease is one of the most serious health issues globally, as it affects the heart's ability to efficiently pump blood to other organs, impacting overall bodily functions. Several factors contribute to heart disease, including cholesterol levels, smoking, obesity, family history, blood pressure, and work environment.\n",
    "\n",
    "Today, machine learning (ML) algorithms play a crucial role in predicting heart disease with accuracy. Technological advancements have facilitated the integration of ML with Big Data tools to handle the vast amount of unstructured medical data worldwide. Predicting heart disease relies on symptoms like age, gender, and heart rate, ultimately aiding in reducing the mortality rate among heart patients. This report aims to utilize ML algorithms and Python language to achieve this goal."
   ]
  },
  {
   "cell_type": "code",
   "execution_count": null,
   "metadata": {},
   "outputs": [],
   "source": []
  }
 ],
 "metadata": {
  "kernelspec": {
   "display_name": ".venv",
   "language": "python",
   "name": "python3"
  },
  "language_info": {
   "codemirror_mode": {
    "name": "ipython",
    "version": 3
   },
   "file_extension": ".py",
   "mimetype": "text/x-python",
   "name": "python",
   "nbconvert_exporter": "python",
   "pygments_lexer": "ipython3",
   "version": "3.12.1"
  }
 },
 "nbformat": 4,
 "nbformat_minor": 2
}
